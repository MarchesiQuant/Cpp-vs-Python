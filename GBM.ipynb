{
 "cells": [
  {
   "cell_type": "code",
   "execution_count": 1,
   "metadata": {},
   "outputs": [
    {
     "name": "stdout",
     "output_type": "stream",
     "text": [
      "El valor de la opción es de: 3.2441\n",
      "El tiempo de ejecución fue de 916.4218 segundos\n"
     ]
    }
   ],
   "source": [
    "import numpy as np\n",
    "import math\n",
    "import time\n",
    "\n",
    "# Funciones para el cálculo de los payoffs al vencimiento\n",
    "def call_payoff(S_T, K):\n",
    "    \"\"\"Cálculo del payoff de una opción Call.\"\"\"\n",
    "    return max(S_T - K, 0)\n",
    "\n",
    "def put_payoff(S_T, K):\n",
    "    \"\"\"Cálculo del payoff de una opción Put.\"\"\"\n",
    "    return max(K - S_T, 0)\n",
    "\n",
    "# Función para calcular la media de los payoffs descontados\n",
    "def avg_disc_payoffs(P, T, r):\n",
    "    \"\"\"Cálculo de la media de los payoffs descontados.\"\"\"\n",
    "    mean = np.mean(P)\n",
    "    return mean * math.exp(-r * T)\n",
    "\n",
    "# Parámetros del modelo\n",
    "S0 = float(input(\"Ingrese el precio inicial del activo (S0): \"))\n",
    "mu = float(input(\"Ingrese la tasa de retorno esperada (mu, por ejemplo 0.05 para 5%): \"))\n",
    "sigma = float(input(\"Ingrese la volatilidad (sigma, por ejemplo 0.2 para 20%): \"))\n",
    "T = float(input(\"Ingrese el tiempo total de simulación (T, en años, por ejemplo 1): \"))\n",
    "optType = input(\"Ingrese el tipo de opción (CALL o PUT): \").upper()\n",
    "K = float(input(\"Ingrese el strike (K): \"))\n",
    "iter = int(input(\"Ingrese el número de simulaciones (iter): \"))\n",
    "r = float(input(\"Ingrese la tasa de descuento (r, por ejemplo 0.05 para 5%): \"))\n",
    "\n",
    "# Tiempo de inicio\n",
    "start_time = time.time()\n",
    "\n",
    "N = 252  # Número de pasos en la simulación (por ejemplo, 252 días para un año)\n",
    "dt = T / N  # Paso de tiempo\n",
    "\n",
    "# Fijar la semilla para los números aleatorios\n",
    "np.random.seed(200)\n",
    "\n",
    "# Vector para almacenar los payoffs\n",
    "P = np.zeros(iter)\n",
    "\n",
    "# Simulación Monte Carlo\n",
    "for k in range(iter):\n",
    "    # Vector para almacenar los precios simulados\n",
    "    S = np.zeros(N + 1)\n",
    "    S[0] = S0\n",
    "    \n",
    "    # Simulación del GBM\n",
    "    for i in range(1, N + 1):\n",
    "        Z = np.random.normal(0, 1)  # Variable aleatoria normal estándar\n",
    "        S[i] = S[i-1] * np.exp((mu - 0.5 * sigma**2) * dt + sigma * np.sqrt(dt) * Z)\n",
    "    \n",
    "    # Calcular el payoff\n",
    "    if optType == \"CALL\":\n",
    "        P[k] = call_payoff(S[-1], K)\n",
    "    elif optType == \"PUT\":\n",
    "        P[k] = put_payoff(S[-1], K)\n",
    "\n",
    "# Calcular el valor promedio descontado\n",
    "V = avg_disc_payoffs(P, T, r)\n",
    "\n",
    "# Tiempo de finalización\n",
    "end_time = time.time()\n",
    "\n",
    "# Resultados\n",
    "print(f\"El valor de la opción es de: {V:.4f}\")\n",
    "print(f\"El tiempo de ejecución fue de {end_time - start_time:.4f} segundos\")\n"
   ]
  }
 ],
 "metadata": {
  "kernelspec": {
   "display_name": "Python 3",
   "language": "python",
   "name": "python3"
  },
  "language_info": {
   "codemirror_mode": {
    "name": "ipython",
    "version": 3
   },
   "file_extension": ".py",
   "mimetype": "text/x-python",
   "name": "python",
   "nbconvert_exporter": "python",
   "pygments_lexer": "ipython3",
   "version": "3.11.9"
  }
 },
 "nbformat": 4,
 "nbformat_minor": 2
}
